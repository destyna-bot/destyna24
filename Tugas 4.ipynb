{
 "cells": [
  {
   "cell_type": "code",
   "execution_count": 16,
   "metadata": {},
   "outputs": [
    {
     "name": "stdout",
     "output_type": "stream",
     "text": [
      "Hasil dari a + b adalah c = 12\n",
      "Hasil dari a - b adalah d = -2\n",
      "Hasil dari a*b*c adalah e = 225\n",
      "Hasil dari a/b/c adalah f = 1\n",
      "Hasil dari sisa bagi a%b adalah g = 0\n",
      "Hasil dari a pangkat c dikali b adalah h = 1125\n"
     ]
    }
   ],
   "source": [
    "#operator dan input output\n",
    "#Operator Aritmatika\n",
    "#Operator penjumlahan (+)\n",
    "a = 5\n",
    "b = 7\n",
    "c = a + b\n",
    "print(\"Hasil dari a + b adalah c =\",c)\n",
    "\n",
    "#Operator pengurangan (-)\n",
    "c = a - b\n",
    "print(\"Hasil dari a - b adalah d =\",c)\n",
    "\n",
    "#Operator perkalian (*)\n",
    "a = 15\n",
    "b = 5\n",
    "c = 3\n",
    "e = a*b*c\n",
    "print(\"Hasil dari a*b*c adalah e =\",e)\n",
    "\n",
    "#Operator pembagian (/)\n",
    "f = a/b/c\n",
    "print(\"Hasil dari a/b/c adalah f =\",int(f))\n",
    "\n",
    "#Operator sisa bagi (%)\n",
    "a = 15\n",
    "b = 5\n",
    "g = a%b\n",
    "print(\"Hasil dari sisa bagi a%b adalah g =\",g)\n",
    "\n",
    "#Operator pemangkatan (**)\n",
    "a = 15\n",
    "b = 5\n",
    "c = 2\n",
    "h = a**c*b\n",
    "print(\"Hasil dari a pangkat c dikali b adalah h =\",h)"
   ]
  },
  {
   "cell_type": "code",
   "execution_count": 49,
   "metadata": {},
   "outputs": [
    {
     "name": "stdout",
     "output_type": "stream",
     "text": [
      "Untuk kegiatan camping besok desty membawa baju 2 dan celana 2 yang akan dipakai saat acara camping nanti.\n",
      "Kemudian saat camping, baju kedua yang desty pakai kotor, akhirnya desty membeli baju lagi, sehingga baju yang desty bawa pulang sebanyak 3 setel\n",
      "Selesai acara, desty pulang kemudian membereskan barang bawaannya, desty baru sadar bahwa salah satu celananya ada yang tertinggal, sehingga desty hanya membawa pulang 1 celana saja.\n"
     ]
    }
   ],
   "source": [
    "#Operator penugasan\n",
    "\n",
    "#Operator pengisian (=)\n",
    "baju = 2 #jumlah baju yang belum ditambahkan\n",
    "celana = 2\n",
    "print(\"Untuk kegiatan camping besok desty membawa baju\",baju,\"dan celana\",celana, \"yang akan dipakai saat acara camping nanti.\")\n",
    "\n",
    "#Operator penjumlahan (+=)\n",
    "baju += 1 #1 disini adalah angka yang akan ditambahkan dalam baju, sehingga jumlah baju akan = 3 \n",
    "print(\"Kemudian saat camping, baju kedua yang desty pakai kotor, akhirnya desty membeli baju lagi, sehingga baju yang desty bawa pulang sebanyak\",baju,\"setel\")\n",
    "\n",
    "#Operator pengurangan (-=)\n",
    "celana -= 1\n",
    "print(\"Selesai acara, desty pulang kemudian membereskan barang bawaannya, desty baru sadar bahwa salah satu celananya ada yang tertinggal, sehingga desty hanya membawa pulang\",celana,\"celana saja.\")"
   ]
  },
  {
   "cell_type": "code",
   "execution_count": 42,
   "metadata": {},
   "outputs": [
    {
     "name": "stdout",
     "output_type": "stream",
     "text": [
      "Harga satuan buah jambu di Toko Yani adalah 1000\n",
      "Kemudian harga satuan buah apelnya 3000\n",
      "dan kemarin ibu menyuruhku membeli 5 buah jambu dan 3 buah apel, dengan harga masing-masing adalah 5000 dan 9000\n",
      "Jika pemilik toko ingin menjual buah yang sudah dipotong menjadi beberapa bagian, dengan ukuran buah jambu adalah 2 bagian dan buah apelnya 3 bagian, maka buah jambu adan apel akan dijual dengan masing-masing harga 500 dan 750 perbagian\n"
     ]
    }
   ],
   "source": [
    "#Operator penugasan\n",
    "#Operator perkalian (*=)\n",
    "jambu = 1000 #harga persatuan\n",
    "print(\"Harga satuan buah jambu di Toko Yani adalah\",jambu)\n",
    "apel = 3000 #harga persatuan\n",
    "print(\"Kemudian harga satuan buah apelnya\",apel)\n",
    "jambu *= 5\n",
    "apel *= 3\n",
    "print(\"dan kemarin ibu menyuruhku membeli 5 buah jambu dan 3 buah apel, dengan harga masing-masing adalah\",jambu,\"dan\",apel)\n",
    "\n",
    "#Operator pembagian (/=)\n",
    "jambu = 1000\n",
    "jambu /= 2\n",
    "apel = 3000\n",
    "apel /= 4\n",
    "print(\"Jika pemilik toko ingin menjual buah yang sudah dipotong menjadi beberapa bagian, dengan ukuran buah jambu adalah 2 bagian dan buah apelnya 3 bagian, maka buah jambu adan apel akan dijual dengan masing-masing harga\",int(jambu),\"dan\",int(apel),\"perbagian\")\n"
   ]
  },
  {
   "cell_type": "code",
   "execution_count": 46,
   "metadata": {},
   "outputs": [
    {
     "name": "stdout",
     "output_type": "stream",
     "text": [
      "Di Toko Yani jambu dan apel yang tersedia sebanyak 64 dan 47\n",
      "Kemudia buah yang tersedia dibeli oleh masing-masing pembeli yaitu jambu dibeli oleh 6 orang, sedangkan apel oleh 7 orang maka sisa masing-masing buah adalah 4 dan 5\n"
     ]
    }
   ],
   "source": [
    "#Operator penugasan\n",
    "#operator sisa bagi (%=)\n",
    "jambu = 64 #jumlah jambu yang tersedia\n",
    "apel = 47 #jumlah apel yang tersedia\n",
    "print(\"Di Toko Yani jambu dan apel yang tersedia sebanyak\",jambu,\"dan\",apel)\n",
    "jambu %= 6\n",
    "apel %= 7\n",
    "print(\"Kemudia buah yang tersedia dibeli oleh masing-masing pembeli yaitu jambu dibeli oleh 6 orang, sedangkan apel oleh 7 orang maka sisa masing-masing buah adalah\",jambu,\"dan\",apel)\n"
   ]
  },
  {
   "cell_type": "code",
   "execution_count": 45,
   "metadata": {},
   "outputs": [
    {
     "name": "stdout",
     "output_type": "stream",
     "text": [
      "8\n",
      "12\n",
      "32768\n",
      "2985984\n"
     ]
    }
   ],
   "source": [
    "#Operator penugasan\n",
    "#Operator pemangkatan (**=)\n",
    "a = 8\n",
    "print(a)\n",
    "b = 12\n",
    "print(b)\n",
    "a **= 5\n",
    "print(a)\n",
    "b **= 6\n",
    "print(b)"
   ]
  },
  {
   "cell_type": "code",
   "execution_count": 64,
   "metadata": {},
   "outputs": [
    {
     "name": "stdout",
     "output_type": "stream",
     "text": [
      "Benarkah umur ayah > dari umur ibu? True\n",
      "Benarkah umur desty < dari umur ibu? True\n",
      "Benarkah umur desty == dari umur ami? True\n",
      "Benarkah umur desty != dari umur bening? True\n",
      "Apakah benar bil_bulat >= bil_cacah? True\n",
      "Apakah benar bil_cacah <= bil_bulat? True\n"
     ]
    }
   ],
   "source": [
    "#Operator pembanding\n",
    "#Operator lebih besar (>)\n",
    "umur_ayah = 70\n",
    "umur_ibu = 66\n",
    "c = umur_ayah > umur_ibu\n",
    "print(\"Benarkah umur ayah > dari umur ibu?\",c)\n",
    "\n",
    "#Operator lebih kecil (<)\n",
    "umur_ibu = 66\n",
    "umur_desty = 17\n",
    "d = umur_desty < umur_ibu\n",
    "print(\"Benarkah umur desty < dari umur ibu?\",d)\n",
    "\n",
    "#Operator sama dengan (==)\n",
    "umur_desty = 17\n",
    "umur_ami = 17\n",
    "e = umur_desty == umur_ami\n",
    "print(\"Benarkah umur desty == dari umur ami?\",e)\n",
    "\n",
    "#Operator tidak sama dengan (!=)\n",
    "umur_desty = 17\n",
    "umur_bening = 18\n",
    "f = umur_desty != umur_bening\n",
    "print(\"Benarkah umur desty != dari umur bening?\",f)\n",
    "\n",
    "#Operator lebih besar sama dengan (>=)\n",
    "bil_cacah = 0\n",
    "bil_bulat = 9\n",
    "g = bil_bulat >= bil_cacah\n",
    "print(\"Apakah benar bil_bulat >= bil_cacah?\",g)\n",
    "\n",
    "#Operator lebih kecil sama dengan (<=)\n",
    "bil_cacah = 0\n",
    "bil_bulat = 9\n",
    "g = bil_bulat >= bil_cacah\n",
    "print(\"Apakah benar bil_cacah <= bil_bulat?\",g)"
   ]
  },
  {
   "cell_type": "code",
   "execution_count": 72,
   "metadata": {},
   "outputs": [
    {
     "name": "stdout",
     "output_type": "stream",
     "text": [
      "False\n",
      "True\n",
      "False\n",
      "True\n"
     ]
    }
   ],
   "source": [
    "#Operator Logika\n",
    "#logika and\n",
    "p = True\n",
    "q = False\n",
    "\n",
    "s = p and q\n",
    "print(s)\n",
    "\n",
    "#Logika or\n",
    "p = True\n",
    "q = False\n",
    "\n",
    "t = p or q\n",
    "print(t)\n",
    "\n",
    "#Logika Negasi (~ atau not)\n",
    "p = True\n",
    "q = False\n",
    "\n",
    "u = not p\n",
    "v = not q\n",
    "print(u)\n",
    "print(v)"
   ]
  },
  {
   "cell_type": "code",
   "execution_count": 82,
   "metadata": {},
   "outputs": [
    {
     "name": "stdout",
     "output_type": "stream",
     "text": [
      "Nama Bayi : Adelia Berlian\n",
      "Berat : 4 kg\n",
      "Berat : 40 ons\n",
      "Berat bayi 1 bulan kedepan 70 ons\n"
     ]
    }
   ],
   "source": [
    "#Input Output\n",
    "nama_bayi = \"Nama Bayi : Adelia Berlian\"\n",
    "print(nama_bayi)\n",
    "berat = 4 \n",
    "print(\"Berat :\",berat,\"kg\")\n",
    "berat *= 10 \n",
    "print(\"Berat :\",berat,\"ons\")\n",
    "berat += 30\n",
    "print(\"Berat bayi 1 bulan kedepan\",berat,\"ons\")"
   ]
  }
 ],
 "metadata": {
  "kernelspec": {
   "display_name": "Python 3",
   "language": "python",
   "name": "python3"
  },
  "language_info": {
   "codemirror_mode": {
    "name": "ipython",
    "version": 3
   },
   "file_extension": ".py",
   "mimetype": "text/x-python",
   "name": "python",
   "nbconvert_exporter": "python",
   "pygments_lexer": "ipython3",
   "version": "3.8.3"
  }
 },
 "nbformat": 4,
 "nbformat_minor": 4
}
